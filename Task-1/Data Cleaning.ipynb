{
 "cells": [
  {
   "cell_type": "code",
   "execution_count": 2,
   "metadata": {},
   "outputs": [],
   "source": [
    "import nltk"
   ]
  },
  {
   "cell_type": "code",
   "execution_count": 2,
   "metadata": {},
   "outputs": [],
   "source": [
    "import pandas as pd \n",
    "import numpy as np "
   ]
  },
  {
   "cell_type": "code",
   "execution_count": 3,
   "metadata": {},
   "outputs": [],
   "source": [
    "df = pd.read_csv(\"british_airways_reviews.csv\")"
   ]
  },
  {
   "cell_type": "code",
   "execution_count": 4,
   "metadata": {},
   "outputs": [
    {
     "data": {
      "text/html": [
       "<div>\n",
       "<style scoped>\n",
       "    .dataframe tbody tr th:only-of-type {\n",
       "        vertical-align: middle;\n",
       "    }\n",
       "\n",
       "    .dataframe tbody tr th {\n",
       "        vertical-align: top;\n",
       "    }\n",
       "\n",
       "    .dataframe thead th {\n",
       "        text-align: right;\n",
       "    }\n",
       "</style>\n",
       "<table border=\"1\" class=\"dataframe\">\n",
       "  <thead>\n",
       "    <tr style=\"text-align: right;\">\n",
       "      <th></th>\n",
       "      <th>reviews</th>\n",
       "      <th>stars</th>\n",
       "      <th>date</th>\n",
       "      <th>country</th>\n",
       "    </tr>\n",
       "  </thead>\n",
       "  <tbody>\n",
       "    <tr>\n",
       "      <th>0</th>\n",
       "      <td>Not Verified |  Very good flight following an ...</td>\n",
       "      <td>9.0</td>\n",
       "      <td>20th January 2025</td>\n",
       "      <td>United Kingdom</td>\n",
       "    </tr>\n",
       "    <tr>\n",
       "      <th>1</th>\n",
       "      <td>Not Verified |  An hour's delay due to late ar...</td>\n",
       "      <td>7.0</td>\n",
       "      <td>19th January 2025</td>\n",
       "      <td>United Kingdom</td>\n",
       "    </tr>\n",
       "    <tr>\n",
       "      <th>2</th>\n",
       "      <td>✅ Trip Verified |   I booked through BA becaus...</td>\n",
       "      <td>1.0</td>\n",
       "      <td>15th January 2025</td>\n",
       "      <td>United Kingdom</td>\n",
       "    </tr>\n",
       "    <tr>\n",
       "      <th>3</th>\n",
       "      <td>✅ Trip Verified |   British airways lost bags ...</td>\n",
       "      <td>1.0</td>\n",
       "      <td>9th January 2025</td>\n",
       "      <td>United States</td>\n",
       "    </tr>\n",
       "    <tr>\n",
       "      <th>4</th>\n",
       "      <td>✅ Trip Verified | The check in process and rew...</td>\n",
       "      <td>1.0</td>\n",
       "      <td>5th January 2025</td>\n",
       "      <td>Netherlands</td>\n",
       "    </tr>\n",
       "  </tbody>\n",
       "</table>\n",
       "</div>"
      ],
      "text/plain": [
       "                                             reviews  stars  \\\n",
       "0  Not Verified |  Very good flight following an ...    9.0   \n",
       "1  Not Verified |  An hour's delay due to late ar...    7.0   \n",
       "2  ✅ Trip Verified |   I booked through BA becaus...    1.0   \n",
       "3  ✅ Trip Verified |   British airways lost bags ...    1.0   \n",
       "4  ✅ Trip Verified | The check in process and rew...    1.0   \n",
       "\n",
       "                date         country  \n",
       "0  20th January 2025  United Kingdom  \n",
       "1  19th January 2025  United Kingdom  \n",
       "2  15th January 2025  United Kingdom  \n",
       "3   9th January 2025   United States  \n",
       "4   5th January 2025     Netherlands  "
      ]
     },
     "execution_count": 4,
     "metadata": {},
     "output_type": "execute_result"
    }
   ],
   "source": [
    "df.head()"
   ]
  },
  {
   "cell_type": "code",
   "execution_count": 5,
   "metadata": {},
   "outputs": [
    {
     "data": {
      "text/plain": [
       "reviews     object\n",
       "stars      float64\n",
       "date        object\n",
       "country     object\n",
       "dtype: object"
      ]
     },
     "execution_count": 5,
     "metadata": {},
     "output_type": "execute_result"
    }
   ],
   "source": [
    "# Need to change date to datetime\n",
    "df.dtypes"
   ]
  },
  {
   "cell_type": "code",
   "execution_count": 6,
   "metadata": {},
   "outputs": [],
   "source": [
    "## Create a verified column\n",
    "df['verified'] = df['reviews'].str.contains('Trip Verified')"
   ]
  },
  {
   "cell_type": "code",
   "execution_count": 7,
   "metadata": {},
   "outputs": [
    {
     "data": {
      "text/html": [
       "<div>\n",
       "<style scoped>\n",
       "    .dataframe tbody tr th:only-of-type {\n",
       "        vertical-align: middle;\n",
       "    }\n",
       "\n",
       "    .dataframe tbody tr th {\n",
       "        vertical-align: top;\n",
       "    }\n",
       "\n",
       "    .dataframe thead th {\n",
       "        text-align: right;\n",
       "    }\n",
       "</style>\n",
       "<table border=\"1\" class=\"dataframe\">\n",
       "  <thead>\n",
       "    <tr style=\"text-align: right;\">\n",
       "      <th></th>\n",
       "      <th>reviews</th>\n",
       "      <th>stars</th>\n",
       "      <th>date</th>\n",
       "      <th>country</th>\n",
       "      <th>verified</th>\n",
       "    </tr>\n",
       "  </thead>\n",
       "  <tbody>\n",
       "    <tr>\n",
       "      <th>0</th>\n",
       "      <td>Not Verified |  Very good flight following an ...</td>\n",
       "      <td>9.0</td>\n",
       "      <td>20th January 2025</td>\n",
       "      <td>United Kingdom</td>\n",
       "      <td>False</td>\n",
       "    </tr>\n",
       "    <tr>\n",
       "      <th>1</th>\n",
       "      <td>Not Verified |  An hour's delay due to late ar...</td>\n",
       "      <td>7.0</td>\n",
       "      <td>19th January 2025</td>\n",
       "      <td>United Kingdom</td>\n",
       "      <td>False</td>\n",
       "    </tr>\n",
       "    <tr>\n",
       "      <th>2</th>\n",
       "      <td>✅ Trip Verified |   I booked through BA becaus...</td>\n",
       "      <td>1.0</td>\n",
       "      <td>15th January 2025</td>\n",
       "      <td>United Kingdom</td>\n",
       "      <td>True</td>\n",
       "    </tr>\n",
       "    <tr>\n",
       "      <th>3</th>\n",
       "      <td>✅ Trip Verified |   British airways lost bags ...</td>\n",
       "      <td>1.0</td>\n",
       "      <td>9th January 2025</td>\n",
       "      <td>United States</td>\n",
       "      <td>True</td>\n",
       "    </tr>\n",
       "    <tr>\n",
       "      <th>4</th>\n",
       "      <td>✅ Trip Verified | The check in process and rew...</td>\n",
       "      <td>1.0</td>\n",
       "      <td>5th January 2025</td>\n",
       "      <td>Netherlands</td>\n",
       "      <td>True</td>\n",
       "    </tr>\n",
       "  </tbody>\n",
       "</table>\n",
       "</div>"
      ],
      "text/plain": [
       "                                             reviews  stars  \\\n",
       "0  Not Verified |  Very good flight following an ...    9.0   \n",
       "1  Not Verified |  An hour's delay due to late ar...    7.0   \n",
       "2  ✅ Trip Verified |   I booked through BA becaus...    1.0   \n",
       "3  ✅ Trip Verified |   British airways lost bags ...    1.0   \n",
       "4  ✅ Trip Verified | The check in process and rew...    1.0   \n",
       "\n",
       "                date         country  verified  \n",
       "0  20th January 2025  United Kingdom     False  \n",
       "1  19th January 2025  United Kingdom     False  \n",
       "2  15th January 2025  United Kingdom      True  \n",
       "3   9th January 2025   United States      True  \n",
       "4   5th January 2025     Netherlands      True  "
      ]
     },
     "execution_count": 7,
     "metadata": {},
     "output_type": "execute_result"
    }
   ],
   "source": [
    "df.head()"
   ]
  },
  {
   "cell_type": "markdown",
   "metadata": {},
   "source": [
    "Cleaning the reviews column by extracting only the reviews "
   ]
  },
  {
   "cell_type": "code",
   "execution_count": 8,
   "metadata": {},
   "outputs": [],
   "source": [
    "#for lemmatization of words we will use nltk library\n",
    "import re\n",
    "from nltk.stem import WordNetLemmatizer\n",
    "from nltk.corpus import stopwords\n",
    "lemma = WordNetLemmatizer()\n",
    "\n",
    "reviews_data = df['reviews'].str.strip(\"✅ Trip Verified | \")\n",
    "reviews_data = reviews_data.str.strip(\"Not Verified | \")\n",
    "\n",
    "cleaned_reviews = []\n",
    "\n",
    "for review in reviews_data:\n",
    "    review = re.sub('[^a-zA-Z]', ' ', review)\n",
    "    review = review.lower()\n",
    "    review = review.split()\n",
    "    review = [lemma.lemmatize(word) for word in review if word not in set(stopwords.words(\"english\"))]\n",
    "    review = \" \".join(review)\n",
    "    cleaned_reviews.append(review)"
   ]
  },
  {
   "cell_type": "code",
   "execution_count": 9,
   "metadata": {},
   "outputs": [
    {
     "data": {
      "text/plain": [
       "3500"
      ]
     },
     "execution_count": 9,
     "metadata": {},
     "output_type": "execute_result"
    }
   ],
   "source": [
    "len(cleaned_reviews)"
   ]
  },
  {
   "cell_type": "code",
   "execution_count": 10,
   "metadata": {},
   "outputs": [],
   "source": [
    "df['cleaned_reviews'] = cleaned_reviews"
   ]
  },
  {
   "cell_type": "code",
   "execution_count": 11,
   "metadata": {},
   "outputs": [
    {
     "data": {
      "text/html": [
       "<div>\n",
       "<style scoped>\n",
       "    .dataframe tbody tr th:only-of-type {\n",
       "        vertical-align: middle;\n",
       "    }\n",
       "\n",
       "    .dataframe tbody tr th {\n",
       "        vertical-align: top;\n",
       "    }\n",
       "\n",
       "    .dataframe thead th {\n",
       "        text-align: right;\n",
       "    }\n",
       "</style>\n",
       "<table border=\"1\" class=\"dataframe\">\n",
       "  <thead>\n",
       "    <tr style=\"text-align: right;\">\n",
       "      <th></th>\n",
       "      <th>reviews</th>\n",
       "      <th>stars</th>\n",
       "      <th>date</th>\n",
       "      <th>country</th>\n",
       "      <th>verified</th>\n",
       "      <th>cleaned_reviews</th>\n",
       "    </tr>\n",
       "  </thead>\n",
       "  <tbody>\n",
       "    <tr>\n",
       "      <th>0</th>\n",
       "      <td>Not Verified |  Very good flight following an ...</td>\n",
       "      <td>9.0</td>\n",
       "      <td>20th January 2025</td>\n",
       "      <td>United Kingdom</td>\n",
       "      <td>False</td>\n",
       "      <td>good flight following equally good flight rome...</td>\n",
       "    </tr>\n",
       "    <tr>\n",
       "      <th>1</th>\n",
       "      <td>Not Verified |  An hour's delay due to late ar...</td>\n",
       "      <td>7.0</td>\n",
       "      <td>19th January 2025</td>\n",
       "      <td>United Kingdom</td>\n",
       "      <td>False</td>\n",
       "      <td>hour delay due late arrival incoming aircraft ...</td>\n",
       "    </tr>\n",
       "    <tr>\n",
       "      <th>2</th>\n",
       "      <td>✅ Trip Verified |   I booked through BA becaus...</td>\n",
       "      <td>1.0</td>\n",
       "      <td>15th January 2025</td>\n",
       "      <td>United Kingdom</td>\n",
       "      <td>True</td>\n",
       "      <td>booked ba loganair representative manchester a...</td>\n",
       "    </tr>\n",
       "    <tr>\n",
       "      <th>3</th>\n",
       "      <td>✅ Trip Verified |   British airways lost bags ...</td>\n",
       "      <td>1.0</td>\n",
       "      <td>9th January 2025</td>\n",
       "      <td>United States</td>\n",
       "      <td>True</td>\n",
       "      <td>british airway lost bag lhr found sent cologne...</td>\n",
       "    </tr>\n",
       "    <tr>\n",
       "      <th>4</th>\n",
       "      <td>✅ Trip Verified | The check in process and rew...</td>\n",
       "      <td>1.0</td>\n",
       "      <td>5th January 2025</td>\n",
       "      <td>Netherlands</td>\n",
       "      <td>True</td>\n",
       "      <td>check process reward loyalty program mess neve...</td>\n",
       "    </tr>\n",
       "  </tbody>\n",
       "</table>\n",
       "</div>"
      ],
      "text/plain": [
       "                                             reviews  stars  \\\n",
       "0  Not Verified |  Very good flight following an ...    9.0   \n",
       "1  Not Verified |  An hour's delay due to late ar...    7.0   \n",
       "2  ✅ Trip Verified |   I booked through BA becaus...    1.0   \n",
       "3  ✅ Trip Verified |   British airways lost bags ...    1.0   \n",
       "4  ✅ Trip Verified | The check in process and rew...    1.0   \n",
       "\n",
       "                date         country  verified  \\\n",
       "0  20th January 2025  United Kingdom     False   \n",
       "1  19th January 2025  United Kingdom     False   \n",
       "2  15th January 2025  United Kingdom      True   \n",
       "3   9th January 2025   United States      True   \n",
       "4   5th January 2025     Netherlands      True   \n",
       "\n",
       "                                     cleaned_reviews  \n",
       "0  good flight following equally good flight rome...  \n",
       "1  hour delay due late arrival incoming aircraft ...  \n",
       "2  booked ba loganair representative manchester a...  \n",
       "3  british airway lost bag lhr found sent cologne...  \n",
       "4  check process reward loyalty program mess neve...  "
      ]
     },
     "execution_count": 11,
     "metadata": {},
     "output_type": "execute_result"
    }
   ],
   "source": [
    "df.head()"
   ]
  },
  {
   "cell_type": "markdown",
   "metadata": {},
   "source": [
    "Cleaning the 'data' column"
   ]
  },
  {
   "cell_type": "code",
   "execution_count": 12,
   "metadata": {},
   "outputs": [],
   "source": [
    "df['date'] = df['date'].apply(lambda x: re.sub(r'(\\d+)(st|nd|rd|th)', r'\\1', x))\n",
    "df['date'] = pd.to_datetime(df['date'])"
   ]
  },
  {
   "cell_type": "code",
   "execution_count": 13,
   "metadata": {},
   "outputs": [
    {
     "data": {
      "text/html": [
       "<div>\n",
       "<style scoped>\n",
       "    .dataframe tbody tr th:only-of-type {\n",
       "        vertical-align: middle;\n",
       "    }\n",
       "\n",
       "    .dataframe tbody tr th {\n",
       "        vertical-align: top;\n",
       "    }\n",
       "\n",
       "    .dataframe thead th {\n",
       "        text-align: right;\n",
       "    }\n",
       "</style>\n",
       "<table border=\"1\" class=\"dataframe\">\n",
       "  <thead>\n",
       "    <tr style=\"text-align: right;\">\n",
       "      <th></th>\n",
       "      <th>reviews</th>\n",
       "      <th>stars</th>\n",
       "      <th>date</th>\n",
       "      <th>country</th>\n",
       "      <th>verified</th>\n",
       "      <th>cleaned_reviews</th>\n",
       "    </tr>\n",
       "  </thead>\n",
       "  <tbody>\n",
       "    <tr>\n",
       "      <th>0</th>\n",
       "      <td>Not Verified |  Very good flight following an ...</td>\n",
       "      <td>9.0</td>\n",
       "      <td>2025-01-20</td>\n",
       "      <td>United Kingdom</td>\n",
       "      <td>False</td>\n",
       "      <td>good flight following equally good flight rome...</td>\n",
       "    </tr>\n",
       "    <tr>\n",
       "      <th>1</th>\n",
       "      <td>Not Verified |  An hour's delay due to late ar...</td>\n",
       "      <td>7.0</td>\n",
       "      <td>2025-01-19</td>\n",
       "      <td>United Kingdom</td>\n",
       "      <td>False</td>\n",
       "      <td>hour delay due late arrival incoming aircraft ...</td>\n",
       "    </tr>\n",
       "    <tr>\n",
       "      <th>2</th>\n",
       "      <td>✅ Trip Verified |   I booked through BA becaus...</td>\n",
       "      <td>1.0</td>\n",
       "      <td>2025-01-15</td>\n",
       "      <td>United Kingdom</td>\n",
       "      <td>True</td>\n",
       "      <td>booked ba loganair representative manchester a...</td>\n",
       "    </tr>\n",
       "    <tr>\n",
       "      <th>3</th>\n",
       "      <td>✅ Trip Verified |   British airways lost bags ...</td>\n",
       "      <td>1.0</td>\n",
       "      <td>2025-01-09</td>\n",
       "      <td>United States</td>\n",
       "      <td>True</td>\n",
       "      <td>british airway lost bag lhr found sent cologne...</td>\n",
       "    </tr>\n",
       "    <tr>\n",
       "      <th>4</th>\n",
       "      <td>✅ Trip Verified | The check in process and rew...</td>\n",
       "      <td>1.0</td>\n",
       "      <td>2025-01-05</td>\n",
       "      <td>Netherlands</td>\n",
       "      <td>True</td>\n",
       "      <td>check process reward loyalty program mess neve...</td>\n",
       "    </tr>\n",
       "  </tbody>\n",
       "</table>\n",
       "</div>"
      ],
      "text/plain": [
       "                                             reviews  stars       date  \\\n",
       "0  Not Verified |  Very good flight following an ...    9.0 2025-01-20   \n",
       "1  Not Verified |  An hour's delay due to late ar...    7.0 2025-01-19   \n",
       "2  ✅ Trip Verified |   I booked through BA becaus...    1.0 2025-01-15   \n",
       "3  ✅ Trip Verified |   British airways lost bags ...    1.0 2025-01-09   \n",
       "4  ✅ Trip Verified | The check in process and rew...    1.0 2025-01-05   \n",
       "\n",
       "          country  verified                                    cleaned_reviews  \n",
       "0  United Kingdom     False  good flight following equally good flight rome...  \n",
       "1  United Kingdom     False  hour delay due late arrival incoming aircraft ...  \n",
       "2  United Kingdom      True  booked ba loganair representative manchester a...  \n",
       "3   United States      True  british airway lost bag lhr found sent cologne...  \n",
       "4     Netherlands      True  check process reward loyalty program mess neve...  "
      ]
     },
     "execution_count": 13,
     "metadata": {},
     "output_type": "execute_result"
    }
   ],
   "source": [
    "df.head()"
   ]
  },
  {
   "cell_type": "markdown",
   "metadata": {},
   "source": [
    "Cleaning the 'stars' column"
   ]
  },
  {
   "cell_type": "code",
   "execution_count": 14,
   "metadata": {},
   "outputs": [
    {
     "data": {
      "text/plain": [
       "array([ 9.,  7.,  1.,  5.,  2.,  8.,  4., 10.,  3.,  6., nan])"
      ]
     },
     "execution_count": 14,
     "metadata": {},
     "output_type": "execute_result"
    }
   ],
   "source": [
    "df['stars'].unique()"
   ]
  },
  {
   "cell_type": "code",
   "execution_count": 15,
   "metadata": {},
   "outputs": [],
   "source": [
    "df.dropna(inplace=True)"
   ]
  },
  {
   "cell_type": "code",
   "execution_count": 16,
   "metadata": {},
   "outputs": [],
   "source": [
    "df['stars'] = df['stars'].astype(int)"
   ]
  },
  {
   "cell_type": "code",
   "execution_count": 17,
   "metadata": {},
   "outputs": [
    {
     "data": {
      "text/plain": [
       "stars\n",
       "1     892\n",
       "2     410\n",
       "3     400\n",
       "8     338\n",
       "10    279\n",
       "7     274\n",
       "9     263\n",
       "5     244\n",
       "4     231\n",
       "6     166\n",
       "Name: count, dtype: int64"
      ]
     },
     "execution_count": 17,
     "metadata": {},
     "output_type": "execute_result"
    }
   ],
   "source": [
    "df.value_counts('stars')"
   ]
  },
  {
   "cell_type": "code",
   "execution_count": 18,
   "metadata": {},
   "outputs": [
    {
     "data": {
      "text/html": [
       "<div>\n",
       "<style scoped>\n",
       "    .dataframe tbody tr th:only-of-type {\n",
       "        vertical-align: middle;\n",
       "    }\n",
       "\n",
       "    .dataframe tbody tr th {\n",
       "        vertical-align: top;\n",
       "    }\n",
       "\n",
       "    .dataframe thead th {\n",
       "        text-align: right;\n",
       "    }\n",
       "</style>\n",
       "<table border=\"1\" class=\"dataframe\">\n",
       "  <thead>\n",
       "    <tr style=\"text-align: right;\">\n",
       "      <th></th>\n",
       "      <th>reviews</th>\n",
       "      <th>stars</th>\n",
       "      <th>date</th>\n",
       "      <th>country</th>\n",
       "      <th>verified</th>\n",
       "      <th>cleaned_reviews</th>\n",
       "    </tr>\n",
       "  </thead>\n",
       "  <tbody>\n",
       "    <tr>\n",
       "      <th>0</th>\n",
       "      <td>Not Verified |  Very good flight following an ...</td>\n",
       "      <td>9</td>\n",
       "      <td>2025-01-20</td>\n",
       "      <td>United Kingdom</td>\n",
       "      <td>False</td>\n",
       "      <td>good flight following equally good flight rome...</td>\n",
       "    </tr>\n",
       "    <tr>\n",
       "      <th>1</th>\n",
       "      <td>Not Verified |  An hour's delay due to late ar...</td>\n",
       "      <td>7</td>\n",
       "      <td>2025-01-19</td>\n",
       "      <td>United Kingdom</td>\n",
       "      <td>False</td>\n",
       "      <td>hour delay due late arrival incoming aircraft ...</td>\n",
       "    </tr>\n",
       "    <tr>\n",
       "      <th>2</th>\n",
       "      <td>✅ Trip Verified |   I booked through BA becaus...</td>\n",
       "      <td>1</td>\n",
       "      <td>2025-01-15</td>\n",
       "      <td>United Kingdom</td>\n",
       "      <td>True</td>\n",
       "      <td>booked ba loganair representative manchester a...</td>\n",
       "    </tr>\n",
       "    <tr>\n",
       "      <th>3</th>\n",
       "      <td>✅ Trip Verified |   British airways lost bags ...</td>\n",
       "      <td>1</td>\n",
       "      <td>2025-01-09</td>\n",
       "      <td>United States</td>\n",
       "      <td>True</td>\n",
       "      <td>british airway lost bag lhr found sent cologne...</td>\n",
       "    </tr>\n",
       "    <tr>\n",
       "      <th>4</th>\n",
       "      <td>✅ Trip Verified | The check in process and rew...</td>\n",
       "      <td>1</td>\n",
       "      <td>2025-01-05</td>\n",
       "      <td>Netherlands</td>\n",
       "      <td>True</td>\n",
       "      <td>check process reward loyalty program mess neve...</td>\n",
       "    </tr>\n",
       "    <tr>\n",
       "      <th>...</th>\n",
       "      <td>...</td>\n",
       "      <td>...</td>\n",
       "      <td>...</td>\n",
       "      <td>...</td>\n",
       "      <td>...</td>\n",
       "      <td>...</td>\n",
       "    </tr>\n",
       "    <tr>\n",
       "      <th>3492</th>\n",
       "      <td>52b on upper deck to LAX and 51b back from LAX...</td>\n",
       "      <td>5</td>\n",
       "      <td>2014-11-20</td>\n",
       "      <td>United Kingdom</td>\n",
       "      <td>False</td>\n",
       "      <td>b upper deck lax b back lax lhr food flight ok...</td>\n",
       "    </tr>\n",
       "    <tr>\n",
       "      <th>3493</th>\n",
       "      <td>Just completed a return trip to Hong Kong on t...</td>\n",
       "      <td>8</td>\n",
       "      <td>2014-11-20</td>\n",
       "      <td>United Kingdom</td>\n",
       "      <td>False</td>\n",
       "      <td>completed return trip hong kong magnificent ai...</td>\n",
       "    </tr>\n",
       "    <tr>\n",
       "      <th>3494</th>\n",
       "      <td>I travel to and from Singapore on BA in Club w...</td>\n",
       "      <td>7</td>\n",
       "      <td>2014-11-20</td>\n",
       "      <td>United Kingdom</td>\n",
       "      <td>False</td>\n",
       "      <td>travel singapore ba club world month first tim...</td>\n",
       "    </tr>\n",
       "    <tr>\n",
       "      <th>3495</th>\n",
       "      <td>First time with BA (a code share flight for JA...</td>\n",
       "      <td>2</td>\n",
       "      <td>2014-11-20</td>\n",
       "      <td>Australia</td>\n",
       "      <td>False</td>\n",
       "      <td>first time ba code share flight jal travelled ...</td>\n",
       "    </tr>\n",
       "    <tr>\n",
       "      <th>3496</th>\n",
       "      <td>London Heathrow to Zagreb return in economy. U...</td>\n",
       "      <td>9</td>\n",
       "      <td>2014-11-20</td>\n",
       "      <td>United Kingdom</td>\n",
       "      <td>False</td>\n",
       "      <td>london heathrow zagreb return economy used ba ...</td>\n",
       "    </tr>\n",
       "  </tbody>\n",
       "</table>\n",
       "<p>3497 rows × 6 columns</p>\n",
       "</div>"
      ],
      "text/plain": [
       "                                                reviews  stars       date  \\\n",
       "0     Not Verified |  Very good flight following an ...      9 2025-01-20   \n",
       "1     Not Verified |  An hour's delay due to late ar...      7 2025-01-19   \n",
       "2     ✅ Trip Verified |   I booked through BA becaus...      1 2025-01-15   \n",
       "3     ✅ Trip Verified |   British airways lost bags ...      1 2025-01-09   \n",
       "4     ✅ Trip Verified | The check in process and rew...      1 2025-01-05   \n",
       "...                                                 ...    ...        ...   \n",
       "3492  52b on upper deck to LAX and 51b back from LAX...      5 2014-11-20   \n",
       "3493  Just completed a return trip to Hong Kong on t...      8 2014-11-20   \n",
       "3494  I travel to and from Singapore on BA in Club w...      7 2014-11-20   \n",
       "3495  First time with BA (a code share flight for JA...      2 2014-11-20   \n",
       "3496  London Heathrow to Zagreb return in economy. U...      9 2014-11-20   \n",
       "\n",
       "             country  verified  \\\n",
       "0     United Kingdom     False   \n",
       "1     United Kingdom     False   \n",
       "2     United Kingdom      True   \n",
       "3      United States      True   \n",
       "4        Netherlands      True   \n",
       "...              ...       ...   \n",
       "3492  United Kingdom     False   \n",
       "3493  United Kingdom     False   \n",
       "3494  United Kingdom     False   \n",
       "3495       Australia     False   \n",
       "3496  United Kingdom     False   \n",
       "\n",
       "                                        cleaned_reviews  \n",
       "0     good flight following equally good flight rome...  \n",
       "1     hour delay due late arrival incoming aircraft ...  \n",
       "2     booked ba loganair representative manchester a...  \n",
       "3     british airway lost bag lhr found sent cologne...  \n",
       "4     check process reward loyalty program mess neve...  \n",
       "...                                                 ...  \n",
       "3492  b upper deck lax b back lax lhr food flight ok...  \n",
       "3493  completed return trip hong kong magnificent ai...  \n",
       "3494  travel singapore ba club world month first tim...  \n",
       "3495  first time ba code share flight jal travelled ...  \n",
       "3496  london heathrow zagreb return economy used ba ...  \n",
       "\n",
       "[3497 rows x 6 columns]"
      ]
     },
     "execution_count": 18,
     "metadata": {},
     "output_type": "execute_result"
    }
   ],
   "source": [
    "df.reset_index(drop=True)"
   ]
  },
  {
   "cell_type": "code",
   "execution_count": 19,
   "metadata": {},
   "outputs": [],
   "source": [
    "df.to_csv(\"british_airways_reviews_cleaned.csv\", index=False)"
   ]
  }
 ],
 "metadata": {
  "kernelspec": {
   "display_name": "Python 3",
   "language": "python",
   "name": "python3"
  },
  "language_info": {
   "codemirror_mode": {
    "name": "ipython",
    "version": 3
   },
   "file_extension": ".py",
   "mimetype": "text/x-python",
   "name": "python",
   "nbconvert_exporter": "python",
   "pygments_lexer": "ipython3",
   "version": "3.10.11"
  }
 },
 "nbformat": 4,
 "nbformat_minor": 2
}
